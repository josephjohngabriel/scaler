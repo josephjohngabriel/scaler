{
 "cells": [
  {
   "cell_type": "code",
   "execution_count": 9,
   "id": "3ae94ee3",
   "metadata": {},
   "outputs": [],
   "source": [
    "Menu = [['Sweet_Corn_Soup', 300.0], ['Cream_of_Tomato_Soup', 100.0], ['Bacon_and_Cheese', 150.0], ['Honey_Mustard', 230.0], ['Hot_Coffee', 50.0], ['Cold_Coffee', 50.0], ['Egg_Sandwiches', 130.0], ['Tacos', 400.0]]\n",
    "\n",
    "item_list=['Hot_Coffee', 'Cold_Coffee', 'Tacos']"
   ]
  },
  {
   "cell_type": "code",
   "execution_count": 22,
   "id": "9a33784e",
   "metadata": {},
   "outputs": [
    {
     "data": {
      "text/plain": [
       "list"
      ]
     },
     "execution_count": 22,
     "metadata": {},
     "output_type": "execute_result"
    }
   ],
   "source": [
    "type(Menu)"
   ]
  },
  {
   "cell_type": "code",
   "execution_count": 41,
   "id": "46fda11f",
   "metadata": {},
   "outputs": [
    {
     "name": "stdout",
     "output_type": "stream",
     "text": [
      "range(0, 5)\n"
     ]
    }
   ],
   "source": [
    "arr=[10,20,[30,[40,50],60],70,80]\n",
    "l=range(len(arr))\n",
    "print(l)"
   ]
  },
  {
   "cell_type": "markdown",
   "id": "efa4324d",
   "metadata": {},
   "source": []
  },
  {
   "cell_type": "code",
   "execution_count": null,
   "id": "7dec02eb",
   "metadata": {},
   "outputs": [],
   "source": [
    "s=set()"
   ]
  },
  {
   "cell_type": "code",
   "execution_count": 10,
   "id": "7700271e",
   "metadata": {},
   "outputs": [
    {
     "name": "stdout",
     "output_type": "stream",
     "text": [
      "[1, 2, 3, 4] <class 'list'>\n"
     ]
    }
   ],
   "source": [
    "l=list((1,2,3,4))\n",
    "print(l,type(l))"
   ]
  },
  {
   "cell_type": "code",
   "execution_count": 37,
   "id": "40c1ce7e",
   "metadata": {},
   "outputs": [
    {
     "name": "stdout",
     "output_type": "stream",
     "text": [
      "0\n",
      "1\n",
      "2\n",
      "[10, 20, 70, 80, 30, [40, 50], 60]\n",
      "3\n",
      "4\n",
      "[10, 20, 70, 80, 30, [40, 50], 60]\n"
     ]
    }
   ],
   "source": [
    "arr=[10,20,[30,[40,50],60],70,80]\n",
    "# for i in arr:\n",
    "#     print(i)\n",
    "#     if type(i)==list:\n",
    "#         arr.extend(i)\n",
    "#         arr.pop(arr.index(i))\n",
    "#         print(arr)\n",
    "\n",
    "    \n",
    "# arr.sort()\n",
    "# print(arr)\n",
    "\n",
    "for i in range(len(arr)):\n",
    "    print(i)\n",
    "    if type(arr[i])==list:\n",
    "        arr.extend(arr[i])\n",
    "        arr.pop(i)\n",
    "        print(arr)\n",
    "#arr.sort()\n",
    "print(arr)    \n",
    "# max=0\n",
    "# for i in arr:\n",
    "#     for j=i+1 in arr:\n",
    "#         if i>j:\n",
    "#             res_array=\n",
    "    \n",
    "\n",
    "    # Your Code Ends here"
   ]
  },
  {
   "cell_type": "code",
   "execution_count": 43,
   "id": "216993a2",
   "metadata": {},
   "outputs": [
    {
     "name": "stdout",
     "output_type": "stream",
     "text": [
      "['Banana', 'Cold_Coffee', 'Tacos'] ['Hot_Coffee', 'Cold_Coffee', 'Tacos']\n"
     ]
    }
   ],
   "source": [
    "a=item_list[:]\n",
    "a[0]='Banana'\n",
    "print (a, item_list)"
   ]
  },
  {
   "cell_type": "code",
   "execution_count": 40,
   "id": "93a09627",
   "metadata": {},
   "outputs": [
    {
     "name": "stdout",
     "output_type": "stream",
     "text": [
      "['Sweet_Corn_Soup', 300.0]\n",
      "Hot_Coffee\n",
      "Hot_Coffee\n"
     ]
    }
   ],
   "source": [
    "for i in (Menu, item_list,a):\n",
    "    print(i[0])\n",
    "    "
   ]
  },
  {
   "cell_type": "code",
   "execution_count": 19,
   "id": "3dc77704",
   "metadata": {
    "scrolled": true
   },
   "outputs": [
    {
     "name": "stdout",
     "output_type": "stream",
     "text": [
      "[['Sweet_Corn_Soup', 300.0], ['Cream_of_Tomato_Soup', 100.0], ['Bacon_and_Cheese', 150.0], ['Honey_Mustard', 230.0], ['Hot_Coffee', 50.0], ['Cold_Coffee', 50.0], ['Egg_Sandwiches', 130.0], ['Tacos', 400.0]]\n"
     ]
    }
   ],
   "source": [
    "print(Menu)"
   ]
  },
  {
   "cell_type": "code",
   "execution_count": 16,
   "id": "3b481b43",
   "metadata": {},
   "outputs": [
    {
     "name": "stdout",
     "output_type": "stream",
     "text": [
      "Hot_Coffee\n",
      "Cold_Coffee\n",
      "Tacos\n"
     ]
    }
   ],
   "source": [
    "for i in item_list:\n",
    "    print (i)"
   ]
  },
  {
   "cell_type": "code",
   "execution_count": 17,
   "id": "a6dd595f",
   "metadata": {},
   "outputs": [
    {
     "name": "stdout",
     "output_type": "stream",
     "text": [
      "Hot_Coffee ['Hot_Coffee', 55.0]\n",
      "Cold_Coffee ['Cold_Coffee', 55.0]\n",
      "Tacos ['Tacos', 440.0]\n"
     ]
    }
   ],
   "source": [
    "for i in item_list:\n",
    "    for j in Menu:\n",
    "        if i in j:\n",
    "            j[1]=j[1]+(j[1]*0.1)\n",
    "            print (i,j)"
   ]
  },
  {
   "cell_type": "code",
   "execution_count": 24,
   "id": "128e00ed",
   "metadata": {},
   "outputs": [
    {
     "name": "stdout",
     "output_type": "stream",
     "text": [
      "Hot_Coffee\n",
      "Hot_Coffee ['Hot_Coffee', 55.0]\n",
      "Cold_Coffee\n",
      "Cold_Coffee ['Cold_Coffee', 55.0]\n",
      "Tacos\n",
      "Tacos ['Tacos', 440.0]\n"
     ]
    }
   ],
   "source": [
    "for i in range(len(item_list)):\n",
    "    for j in range(len(Menu)):\n",
    "        if item_list[i]==Menu[j][0]:\n",
    "            Menu[j][1]+=Menu[j][1]*0.1\n",
    "            print (item_list[i],Menu[j])"
   ]
  },
  {
   "cell_type": "code",
   "execution_count": 7,
   "id": "f1259ba8",
   "metadata": {},
   "outputs": [
    {
     "name": "stdout",
     "output_type": "stream",
     "text": [
      "2346794998656 2346794998656 2346823186816\n",
      "['Guava', 'Berry', 'Cherry', 'Papaya'] ['Guava', 'Berry', 'Cherry', 'Papaya'] ['Apple', 'Kiwi', 'Cherry', 'Papaya']\n",
      "Guava Berry\n",
      "Guava Berry\n",
      "Apple Kiwi\n"
     ]
    }
   ],
   "source": [
    "list1 = ['Apple', 'Berry', 'Cherry', 'Papaya']\n",
    "list2 = list1\n",
    "list3 = list1[:]\n",
    "print (id(list1), id(list2), id(list3))\n",
    "list2[0] = 'Guava'\n",
    "list3[1] = 'Kiwi'\n",
    "print(list1, list2, list3)\n",
    "total = 0\n",
    "for ls in (list1, list2, list3):\n",
    "    print(ls[0],ls[1])\n",
    "    if ls[0] == 'Guava':\n",
    "        total += 1\n",
    "\n",
    "    if ls[1] == 'Kiwi':\n",
    "        total += 20\n",
    "  \n",
    "#print (total, list3[0])"
   ]
  },
  {
   "cell_type": "code",
   "execution_count": 49,
   "id": "6065ed18",
   "metadata": {},
   "outputs": [
    {
     "name": "stdout",
     "output_type": "stream",
     "text": [
      "{'r', 'a', 'm', 'S'}\n"
     ]
    }
   ],
   "source": [
    "string='Saramma'\n",
    "print (set(string))"
   ]
  },
  {
   "cell_type": "code",
   "execution_count": 21,
   "id": "c46d764d",
   "metadata": {},
   "outputs": [
    {
     "name": "stdout",
     "output_type": "stream",
     "text": [
      "['a', 'b', 'c', 'd', 'e'] ['a', 'b', 'd', 'c', 'e']\n"
     ]
    }
   ],
   "source": [
    "str1=\"abcde\"\n",
    "str2=\"abdce\"\n",
    "s1=list(str1)\n",
    "s2=list(str2)\n",
    "print(s1,s2)"
   ]
  },
  {
   "cell_type": "code",
   "execution_count": 22,
   "id": "b7e9589e",
   "metadata": {},
   "outputs": [
    {
     "name": "stdout",
     "output_type": "stream",
     "text": [
      "Not same ['a', 'b', 'c', 'd', 'e'] ['a', 'b', 'd', 'c', 'e']\n"
     ]
    }
   ],
   "source": [
    "if len(s1)!=len(s2):\n",
    "    print(\"Not same\")\n",
    "elif s1==s2:\n",
    "    print(\"Same\")\n",
    "else:\n",
    "    for i in s2:\n",
    "        x=s2.pop(0)\n",
    "        s2.append(x)\n",
    "        if s1==s2:\n",
    "            print(\"Same\",s1,s2)\n",
    "            break        \n",
    "    \n",
    "    else:\n",
    "        print(\"Not same\",s1,s2)"
   ]
  },
  {
   "cell_type": "code",
   "execution_count": 1,
   "id": "8a4ab1f6",
   "metadata": {},
   "outputs": [],
   "source": [
    "sampleDict = { \"class\":{ \"student\":{ \"name\":\"Mike\", \"marks\":{ \"physics\":70, \"history\":80 } } } }"
   ]
  },
  {
   "cell_type": "code",
   "execution_count": 4,
   "id": "b293fc1d",
   "metadata": {},
   "outputs": [
    {
     "data": {
      "text/plain": [
       "{'student': {'name': 'Mike', 'marks': {'physics': 70, 'history': 80}}}"
      ]
     },
     "execution_count": 4,
     "metadata": {},
     "output_type": "execute_result"
    }
   ],
   "source": [
    "sampleDict['class']"
   ]
  },
  {
   "cell_type": "code",
   "execution_count": 5,
   "id": "63724142",
   "metadata": {},
   "outputs": [
    {
     "name": "stdout",
     "output_type": "stream",
     "text": [
      "2002\n"
     ]
    }
   ],
   "source": [
    "s='2002'\n",
    "print(int(s))"
   ]
  },
  {
   "cell_type": "code",
   "execution_count": 8,
   "id": "4844a1b7",
   "metadata": {},
   "outputs": [
    {
     "data": {
      "text/plain": [
       "dict"
      ]
     },
     "execution_count": 8,
     "metadata": {},
     "output_type": "execute_result"
    }
   ],
   "source": [
    "type(sampleDict)"
   ]
  },
  {
   "cell_type": "code",
   "execution_count": null,
   "id": "3d423853",
   "metadata": {},
   "outputs": [],
   "source": [
    "# 55555\n",
    "# 54445\n",
    "# 54345\n",
    "# 54445\n",
    "# 55555\n"
   ]
  }
 ],
 "metadata": {
  "kernelspec": {
   "display_name": "Python 3 (ipykernel)",
   "language": "python",
   "name": "python3"
  },
  "language_info": {
   "codemirror_mode": {
    "name": "ipython",
    "version": 3
   },
   "file_extension": ".py",
   "mimetype": "text/x-python",
   "name": "python",
   "nbconvert_exporter": "python",
   "pygments_lexer": "ipython3",
   "version": "3.9.12"
  }
 },
 "nbformat": 4,
 "nbformat_minor": 5
}
